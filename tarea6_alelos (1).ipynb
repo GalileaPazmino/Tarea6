{
 "cells": [
  {
   "cell_type": "markdown",
   "id": "b0b6fc66",
   "metadata": {},
   "source": [
    "<img src=\"https://www.ikiam.edu.ec/img/logo-ikiam-grey.png\" width=400 height=300 />"
   ]
  },
  {
   "cell_type": "markdown",
   "id": "12c84525",
   "metadata": {},
   "source": [
    "### <center><h2> INGENIERÍA EN BIOTECNOLOGÍA</h2></center>"
   ]
  },
  {
   "cell_type": "markdown",
   "id": "669a69c2",
   "metadata": {},
   "source": [
    "# <center><h1 style=\"color:purple\">GBI6 - BIOINFORMÁTICA</h1></center>"
   ]
  },
  {
   "cell_type": "markdown",
   "id": "c854ef9b",
   "metadata": {},
   "source": [
    "- **Estudiante:** Galilea Pazmiño\n",
    "- **Edad:** 22\n",
    "- **Domicilio:** Napo-Tena\n",
    "- **Nacionalidad:** Ecuatoriana\n",
    "- **Correo:** galilea.pazmino@est.ikiam.edu.ec\n",
    "- **Fecha:** 15/07/2022"
   ]
  },
  {
   "cell_type": "markdown",
   "id": "0164d5d8",
   "metadata": {},
   "source": [
    "En este trabajo, se produciran nuevas generaciones a partir de la formacion aleatoria de alelos provenientes de mama y papa, codificadas a travez de funciones que han sido importadas desde modulos creados externamente para clasificar de forma ordenada y dinamica el proceso de informacion."
   ]
  },
  {
   "cell_type": "code",
   "execution_count": 344,
   "id": "51a0bcb1",
   "metadata": {},
   "outputs": [],
   "source": [
    "import alelos"
   ]
  },
  {
   "cell_type": "code",
   "execution_count": 368,
   "id": "669b6d55",
   "metadata": {},
   "outputs": [
    {
     "data": {
      "text/plain": [
       "[('A', 'a'),\n",
       " ('a', 'a'),\n",
       " ('a', 'A'),\n",
       " ('A', 'a'),\n",
       " ('a', 'a'),\n",
       " ('a', 'a'),\n",
       " ('A', 'a'),\n",
       " ('a', 'a'),\n",
       " ('A', 'A'),\n",
       " ('A', 'a'),\n",
       " ('a', 'a'),\n",
       " ('a', 'a'),\n",
       " ('a', 'a'),\n",
       " ('a', 'A'),\n",
       " ('A', 'A'),\n",
       " ('A', 'a'),\n",
       " ('a', 'A'),\n",
       " ('a', 'A'),\n",
       " ('a', 'a'),\n",
       " ('A', 'a'),\n",
       " ('A', 'A'),\n",
       " ('A', 'a'),\n",
       " ('A', 'a'),\n",
       " ('A', 'a'),\n",
       " ('a', 'a')]"
      ]
     },
     "execution_count": 368,
     "metadata": {},
     "output_type": "execute_result"
    }
   ],
   "source": [
    "alelos.build_population(25, 0.43)"
   ]
  },
  {
   "cell_type": "code",
   "execution_count": 369,
   "id": "306add9e",
   "metadata": {},
   "outputs": [
    {
     "name": "stdout",
     "output_type": "stream",
     "text": [
      "[('a', 'A'), ('A', 'a'), ('a', 'a'), ('a', 'a'), ('a', 'a'), ('a', 'A'), ('a', 'a'), ('a', 'a'), ('a', 'a'), ('A', 'a')]\n"
     ]
    }
   ],
   "source": [
    "nuevo=alelos.build_population(10, 0.35)\n",
    "print(nuevo)"
   ]
  },
  {
   "cell_type": "code",
   "execution_count": 560,
   "id": "c0e2667b",
   "metadata": {},
   "outputs": [
    {
     "name": "stdout",
     "output_type": "stream",
     "text": [
      "{'AA': 0, 'aa': 6, 'Aa': 2, 'aA': 2}\n"
     ]
    }
   ],
   "source": [
    "conteoalelo = alelos.compute_frequencies(nuevo)\n",
    "print(conteoalelo)"
   ]
  },
  {
   "cell_type": "code",
   "execution_count": 561,
   "id": "c801892b",
   "metadata": {},
   "outputs": [
    {
     "name": "stdout",
     "output_type": "stream",
     "text": [
      "[('A', 'a'), ('a', 'a'), ('a', 'a'), ('a', 'a'), ('a', 'a'), ('a', 'a'), ('a', 'a'), ('A', 'a'), ('a', 'a'), ('a', 'a')]\n"
     ]
    }
   ],
   "source": [
    "crecimiento = alelos.reproduce_population(nuevo)\n",
    "print(crecimiento)"
   ]
  },
  {
   "cell_type": "code",
   "execution_count": 566,
   "id": "9b7587e0",
   "metadata": {},
   "outputs": [
    {
     "name": "stdout",
     "output_type": "stream",
     "text": [
      "{'AA': 0, 'aa': 8, 'Aa': 2, 'aA': 0}\n"
     ]
    }
   ],
   "source": [
    "conteoalelo2 = alelos.compute_frequencies(crecimiento)\n",
    "print(conteoalelo2)"
   ]
  },
  {
   "cell_type": "code",
   "execution_count": 590,
   "id": "6044fa91",
   "metadata": {},
   "outputs": [],
   "source": [
    "def simulate_drift(N, p):\n",
    "    # initialize the population\n",
    "    my_pop = alelos.build_population(N, p)\n",
    "    fixation = False # condiciòn incial de fijacion\n",
    "    num_generations = 0 # población parental\n",
    "    while fixation == False:\n",
    "        # compute genotype counts\n",
    "        genotype_counts = alelos.compute_frequencies(my_pop)\n",
    "        # if one allele went to fixation, end\n",
    "        if (genotype_counts[\"AA\"] == N or genotype_counts[\"aa\"] == N):\n",
    "            print(\"An allele reached fixation at generation\", num_generations)\n",
    "            print(\"The genotype counts are\")\n",
    "            print(genotype_counts)\n",
    "            fixation == True\n",
    "            break\n",
    "        # if not, reproduce\n",
    "        my_pop = alelos.reproduce_population(my_pop)\n",
    "        num_generations += 1\n",
    "    return num_generations, genotype_counts"
   ]
  },
  {
   "cell_type": "code",
   "execution_count": 603,
   "id": "a2717477",
   "metadata": {},
   "outputs": [
    {
     "name": "stdout",
     "output_type": "stream",
     "text": [
      "An allele reached fixation at generation 254\n",
      "The genotype counts are\n",
      "{'AA': 0, 'aa': 100, 'Aa': 0, 'aA': 0}\n"
     ]
    },
    {
     "data": {
      "text/plain": [
       "(254, {'AA': 0, 'aa': 100, 'Aa': 0, 'aA': 0})"
      ]
     },
     "execution_count": 603,
     "metadata": {},
     "output_type": "execute_result"
    }
   ],
   "source": [
    "sim1 = simulate_drift(100, 0.5 ) #simulacion de generacion\n",
    "sim1"
   ]
  },
  {
   "cell_type": "code",
   "execution_count": 551,
   "id": "6242c439",
   "metadata": {},
   "outputs": [
    {
     "name": "stdout",
     "output_type": "stream",
     "text": [
      "[('A', 'a'), ('A', 'A'), ('A', 'A'), ('a', 'a'), ('a', 'A'), ('a', 'a'), ('a', 'A'), ('a', 'a'), ('a', 'A'), ('a', 'A'), ('a', 'a'), ('A', 'a'), ('a', 'A'), ('a', 'A'), ('A', 'A'), ('A', 'a'), ('a', 'A'), ('a', 'a'), ('a', 'A'), ('a', 'a'), ('A', 'a'), ('a', 'A'), ('a', 'A'), ('A', 'a'), ('A', 'a'), ('A', 'A'), ('a', 'A'), ('a', 'a'), ('a', 'A'), ('a', 'a'), ('A', 'A'), ('A', 'a'), ('A', 'a'), ('a', 'a'), ('A', 'A'), ('A', 'a'), ('a', 'A'), ('A', 'a'), ('A', 'a'), ('a', 'A'), ('a', 'a'), ('A', 'a'), ('a', 'A'), ('a', 'A'), ('A', 'A'), ('A', 'a'), ('A', 'a'), ('A', 'A'), ('a', 'a'), ('a', 'A'), ('A', 'A'), ('a', 'A'), ('a', 'a'), ('a', 'a'), ('a', 'A'), ('a', 'a'), ('A', 'a'), ('a', 'a'), ('A', 'a'), ('A', 'A'), ('A', 'a'), ('A', 'A'), ('A', 'A'), ('a', 'A'), ('A', 'A'), ('A', 'a'), ('a', 'a'), ('a', 'a'), ('A', 'a'), ('A', 'a'), ('a', 'A'), ('A', 'a'), ('a', 'a'), ('A', 'A'), ('a', 'a'), ('a', 'A'), ('A', 'A'), ('a', 'a'), ('A', 'a'), ('A', 'A'), ('A', 'a'), ('A', 'a'), ('A', 'a'), ('a', 'A'), ('a', 'a'), ('a', 'A'), ('A', 'a'), ('A', 'a'), ('A', 'a'), ('a', 'a'), ('a', 'A'), ('a', 'A'), ('A', 'a'), ('a', 'a'), ('A', 'a'), ('a', 'A'), ('A', 'a'), ('A', 'a'), ('A', 'A'), ('A', 'a')]\n",
      "{'AA': 17, 'aa': 23, 'Aa': 33, 'aA': 27}\n"
     ]
    },
    {
     "data": {
      "text/plain": [
       "100"
      ]
     },
     "execution_count": 551,
     "metadata": {},
     "output_type": "execute_result"
    }
   ],
   "source": [
    "Generacion100= alelos.build_population(100,0.5) #genero 100 individuos con una probabilidad de 50% \n",
    "print(Generacion100) # ver generacion 100\n",
    "Conteo= alelos.compute_frequencies(Generacion100) # contar el numero de alelos en generacion 100\n",
    "print(Conteo) #imprimo este conteo\n",
    "len(Generacion100) # para saber el numero de individuos que tengo en la generacion"
   ]
  },
  {
   "cell_type": "markdown",
   "id": "ff6c2691",
   "metadata": {},
   "source": [
    "En la generacion 100, se obtuviero diferentes resultados en el conteo de alelos, siendo AA el mas bajo y  Aa el mas alto, en la cual existen 100 individuos."
   ]
  }
 ],
 "metadata": {
  "kernelspec": {
   "display_name": "Python 3 (ipykernel)",
   "language": "python",
   "name": "python3"
  },
  "language_info": {
   "codemirror_mode": {
    "name": "ipython",
    "version": 3
   },
   "file_extension": ".py",
   "mimetype": "text/x-python",
   "name": "python",
   "nbconvert_exporter": "python",
   "pygments_lexer": "ipython3",
   "version": "3.9.12"
  }
 },
 "nbformat": 4,
 "nbformat_minor": 5
}
